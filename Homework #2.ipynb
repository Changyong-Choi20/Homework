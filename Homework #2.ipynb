{
 "cells": [
  {
   "cell_type": "code",
   "execution_count": 1,
   "metadata": {},
   "outputs": [
    {
     "name": "stdout",
     "output_type": "stream",
     "text": [
      "The color Blue has index 0\n",
      "The color Purple has index 1\n",
      "The color Red has index 2\n",
      "The color Black has index 3\n"
     ]
    }
   ],
   "source": [
    "FavoriteColors = [\"Blue\", \"Purple\", \"Red\", \"Black\", \"White\"]\n",
    "print(\"The color\",FavoriteColors[0], \"has index\", FavoriteColors.index(FavoriteColors[0]))\n",
    "print(\"The color\",FavoriteColors[1], \"has index\", FavoriteColors.index(FavoriteColors[1]))\n",
    "print(\"The color\",FavoriteColors[2], \"has index\", FavoriteColors.index(FavoriteColors[2]))\n",
    "print(\"The color\",FavoriteColors[3], \"has index\", FavoriteColors.index(FavoriteColors[3]))"
   ]
  },
  {
   "cell_type": "code",
   "execution_count": 2,
   "metadata": {},
   "outputs": [
    {
     "name": "stdout",
     "output_type": "stream",
     "text": [
      "n = 0\n",
      "n = 1\n",
      "n = 2\n",
      "n = 3\n",
      "n = 4\n",
      "n = 5\n",
      "n = 6\n",
      "n = 7\n",
      "n = 8\n",
      "n = 9\n"
     ]
    }
   ],
   "source": [
    "numbers = list(range(10))\n",
    "for num in numbers:\n",
    "    n = num\n",
    "    print(\"n =\", num)"
   ]
  },
  {
   "cell_type": "code",
   "execution_count": 3,
   "metadata": {},
   "outputs": [
    {
     "name": "stdout",
     "output_type": "stream",
     "text": [
      "n = 0\n",
      "n = 1\n",
      "n = 2\n",
      "n = 3\n",
      "n = 4\n",
      "n = 5\n",
      "n = 6\n",
      "n = 7\n",
      "n = 8\n",
      "n = 9\n"
     ]
    }
   ],
   "source": [
    "numbers = 0\n",
    "while (numbers < 10):\n",
    "    print (\"n =\", numbers)\n",
    "    numbers = numbers + 1"
   ]
  },
  {
   "cell_type": "code",
   "execution_count": 4,
   "metadata": {},
   "outputs": [
    {
     "name": "stdout",
     "output_type": "stream",
     "text": [
      "n = 0\n",
      "n = 1\n",
      "n = 2\n",
      "n = 3\n",
      "n = 4\n",
      "n = 5\n",
      "n = 6\n",
      "n = 7\n",
      "n = 8\n",
      "n = 9\n",
      "n = 10\n",
      "n = 11 is greater than 10\n"
     ]
    }
   ],
   "source": [
    "numbers = 0\n",
    "while (numbers <= 10):\n",
    "    print (\"n =\", numbers)\n",
    "    numbers = numbers + 1\n",
    "else:\n",
    "    print(\"n =\", numbers,\"is greater than 10\")"
   ]
  },
  {
   "cell_type": "code",
   "execution_count": 5,
   "metadata": {},
   "outputs": [
    {
     "name": "stdout",
     "output_type": "stream",
     "text": [
      "The sum of 1 to 30 is 465\n"
     ]
    }
   ],
   "source": [
    "n = 30\n",
    "sum = 0\n",
    "i = 1\n",
    "while i <= n:\n",
    "    sum = sum + i\n",
    "    i = i+1\n",
    "print(\"The sum of 1 to 30 is\", sum)"
   ]
  },
  {
   "cell_type": "code",
   "execution_count": null,
   "metadata": {},
   "outputs": [],
   "source": []
  }
 ],
 "metadata": {
  "kernelspec": {
   "display_name": "Python 3",
   "language": "python",
   "name": "python3"
  },
  "language_info": {
   "codemirror_mode": {
    "name": "ipython",
    "version": 3
   },
   "file_extension": ".py",
   "mimetype": "text/x-python",
   "name": "python",
   "nbconvert_exporter": "python",
   "pygments_lexer": "ipython3",
   "version": "3.8.5"
  }
 },
 "nbformat": 4,
 "nbformat_minor": 4
}
